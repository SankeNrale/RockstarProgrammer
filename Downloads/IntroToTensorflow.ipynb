{
  "nbformat": 4,
  "nbformat_minor": 0,
  "metadata": {
    "colab": {
      "name": "IntroToTensorflow.ipynb",
      "provenance": [],
      "collapsed_sections": []
    },
    "kernelspec": {
      "name": "python3",
      "display_name": "Python 3"
    }
  },
  "cells": [
    {
      "cell_type": "code",
      "metadata": {
        "id": "-YTn7DfnqH4q",
        "colab_type": "code",
        "colab": {
          "base_uri": "https://localhost:8080/",
          "height": 51
        },
        "outputId": "7a8ce43c-ffa6-487e-f969-76231cdd47b8"
      },
      "source": [
        "!pip install -q mitdeeplearning"
      ],
      "execution_count": 2,
      "outputs": [
        {
          "output_type": "stream",
          "text": [
            "\u001b[K     |████████████████████████████████| 2.1MB 2.8MB/s \n",
            "\u001b[?25h  Building wheel for mitdeeplearning (setup.py) ... \u001b[?25l\u001b[?25hdone\n"
          ],
          "name": "stdout"
        }
      ]
    },
    {
      "cell_type": "code",
      "metadata": {
        "id": "Ea-toe-SqWm_",
        "colab_type": "code",
        "colab": {}
      },
      "source": [
        "import tensorflow as tf\n",
        "import matplotlib.pyplot as plt\n",
        "import numpy as np\n",
        "import mitdeeplearning as mdl"
      ],
      "execution_count": 0,
      "outputs": []
    },
    {
      "cell_type": "code",
      "metadata": {
        "id": "yUVTGKj9qkwl",
        "colab_type": "code",
        "colab": {
          "base_uri": "https://localhost:8080/",
          "height": 51
        },
        "outputId": "6c918d5f-813e-47e9-fd60-049feee646ae"
      },
      "source": [
        "sport = tf.constant(\"tennis\", tf.string)\n",
        "number = tf.constant(3.14, tf.float64)\n",
        "print(\"'sport' is a {}-d tensor\".format(tf.rank(sport).numpy()))\n",
        "print(\"'number is a {}-d tensor\".format(tf.rank(number).numpy()))"
      ],
      "execution_count": 4,
      "outputs": [
        {
          "output_type": "stream",
          "text": [
            "'sport' is a 0-d tensor\n",
            "'number is a 0-d tensor\n"
          ],
          "name": "stdout"
        }
      ]
    },
    {
      "cell_type": "code",
      "metadata": {
        "id": "ubpTXHM3scFf",
        "colab_type": "code",
        "colab": {
          "base_uri": "https://localhost:8080/",
          "height": 51
        },
        "outputId": "4b49fa99-067a-4b11-e1f5-123370751be6"
      },
      "source": [
        "sports = tf.constant([\"tennis\", \"basketball\", \"cricket\"], tf.string)\n",
        "numbers = tf.constant([3.14, 2.43243, 6.9], tf.float64)\n",
        "print(\"'sports' is a {}-d tensor with shape: {}\".format(tf.rank(sports).numpy(), tf.shape(sports).numpy()))\n",
        "print(\"'numbers' is a {}-d tensor with shape: {}\".format(tf.rank(numbers).numpy(), tf.shape(numbers)))"
      ],
      "execution_count": 5,
      "outputs": [
        {
          "output_type": "stream",
          "text": [
            "'sports' is a 1-d tensor with shape: [3]\n",
            "'numbers' is a 1-d tensor with shape: [3]\n"
          ],
          "name": "stdout"
        }
      ]
    },
    {
      "cell_type": "code",
      "metadata": {
        "id": "mlsCcsy6G2jV",
        "colab_type": "code",
        "colab": {}
      },
      "source": [
        "images = tf.zeros([10,256,256,3])\n",
        "\n",
        "assert isinstance(images, tf.Tensor), \"matrix must be a tf Tensor object\"\n",
        "assert tf.rank(images).numpy() == 4, \"matrix must be of rank 4\"\n",
        "assert tf.shape(images).numpy().tolist() == [10, 256, 256, 3], \"matrix is incorrect shape\"\n"
      ],
      "execution_count": 0,
      "outputs": []
    },
    {
      "cell_type": "code",
      "metadata": {
        "id": "vurKIpt8HFdp",
        "colab_type": "code",
        "colab": {}
      },
      "source": [
        "matrix = tf.constant([[3.14, 2.43243, 6.9], [2, 3, 4]], tf.float64)\n",
        "\n",
        "assert isinstance(matrix, tf.Tensor), \"matrix must be a tf Tensor object\"\n",
        "assert tf.rank(matrix).numpy() == 2"
      ],
      "execution_count": 0,
      "outputs": []
    },
    {
      "cell_type": "code",
      "metadata": {
        "id": "VPjMJvICH0Ay",
        "colab_type": "code",
        "colab": {
          "base_uri": "https://localhost:8080/",
          "height": 119
        },
        "outputId": "49df554d-ba18-4075-9760-dc8238ef0f99"
      },
      "source": [
        "row = matrix[1]\n",
        "column_vector = matrix[:, 1]\n",
        "scalar = matrix[1,1]\n",
        "print(column_vector)\n",
        "print(row)\n",
        "print(scalar)\n",
        "print(\"`row`: {}\".format(row.numpy()))\n",
        "print(\"'column_vector': {}\".format(column_vector.numpy()))\n",
        "print(\"`scalar`: {}\".format(scalar.numpy()))"
      ],
      "execution_count": 19,
      "outputs": [
        {
          "output_type": "stream",
          "text": [
            "tf.Tensor([2.43243 3.     ], shape=(2,), dtype=float64)\n",
            "tf.Tensor([2. 3. 4.], shape=(3,), dtype=float64)\n",
            "tf.Tensor(3.0, shape=(), dtype=float64)\n",
            "`row`: [2. 3. 4.]\n",
            "'column_vector': [2.43243 3.     ]\n",
            "`scalar`: 3.0\n"
          ],
          "name": "stdout"
        }
      ]
    },
    {
      "cell_type": "code",
      "metadata": {
        "id": "O0NnIcBaIoeM",
        "colab_type": "code",
        "colab": {}
      },
      "source": [
        ""
      ],
      "execution_count": 0,
      "outputs": []
    }
  ]
}